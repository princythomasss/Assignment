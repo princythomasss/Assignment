{
  "nbformat": 4,
  "nbformat_minor": 0,
  "metadata": {
    "colab": {
      "provenance": [],
      "authorship_tag": "ABX9TyMRphyZ1w49pCe4vMbHMu3G",
      "include_colab_link": true
    },
    "kernelspec": {
      "name": "python3",
      "display_name": "Python 3"
    },
    "language_info": {
      "name": "python"
    }
  },
  "cells": [
    {
      "cell_type": "markdown",
      "metadata": {
        "id": "view-in-github",
        "colab_type": "text"
      },
      "source": [
        "<a href=\"https://colab.research.google.com/github/princythomasss/Assignment_Entri/blob/main/Task2.ipynb\" target=\"_parent\"><img src=\"https://colab.research.google.com/assets/colab-badge.svg\" alt=\"Open In Colab\"/></a>"
      ]
    },
    {
      "cell_type": "markdown",
      "source": [
        "**1. Write a Python program to sum all the items in a list.**"
      ],
      "metadata": {
        "id": "ZTfsnnWAZzz2"
      }
    },
    {
      "cell_type": "code",
      "execution_count": 3,
      "metadata": {
        "colab": {
          "base_uri": "https://localhost:8080/"
        },
        "id": "PCcHTTgRZoy5",
        "outputId": "542d37eb-f1b4-4386-9ed6-1dc418b018ec"
      },
      "outputs": [
        {
          "output_type": "stream",
          "name": "stdout",
          "text": [
            "Sum of the total items in list is 120\n"
          ]
        }
      ],
      "source": [
        "List=[2,4,7,8,22,77]\n",
        "sum=0\n",
        "for i in List:\n",
        "  sum=sum+i\n",
        "print(\"Sum of the total items in list is {}\".format(sum))"
      ]
    },
    {
      "cell_type": "markdown",
      "source": [
        "**2. Write a Python program to get the largest number from a list.**"
      ],
      "metadata": {
        "id": "DQ2ZGFKtZ7Fi"
      }
    },
    {
      "cell_type": "code",
      "source": [
        "List=[6,9,2,55,88,34,23]\n",
        "Largest_num=0\n",
        "for i in List:\n",
        "  if i>Largest_num:\n",
        "    Largest_num=i\n",
        "print(\"The Largest number from the given list is {}\".format(Largest_num))\n"
      ],
      "metadata": {
        "colab": {
          "base_uri": "https://localhost:8080/"
        },
        "id": "pwvls8tAaBwW",
        "outputId": "51209822-64ae-417b-c02f-44abb70ef4f6"
      },
      "execution_count": 4,
      "outputs": [
        {
          "output_type": "stream",
          "name": "stdout",
          "text": [
            "The Largest number from the given list is 88\n"
          ]
        }
      ]
    },
    {
      "cell_type": "markdown",
      "source": [
        "**3. Write a Python program to count the number of strings from a given list of strings. The string length is 2 or more and the first and last characters are the same.\n",
        "Sample List : ['abc', 'xyz', 'aba', '1221']\n",
        "Expected Result : 2**\n"
      ],
      "metadata": {
        "id": "MDMAjukdaRjJ"
      }
    },
    {
      "cell_type": "code",
      "source": [
        " List=['abc','xyz','aba','1221']\n",
        " j=0\n",
        " for i in List:\n",
        "  if len(i)>=2 and i[0] == i[-1]:\n",
        "    j+=1\n",
        "print(\"The total number string with length >=2 and 1st and last characher same is {}\".format(j))\n",
        "\n"
      ],
      "metadata": {
        "colab": {
          "base_uri": "https://localhost:8080/"
        },
        "id": "_ubeYQDbacxv",
        "outputId": "fc5cea2e-5952-4501-8ce1-c71746e3d9ce"
      },
      "execution_count": 5,
      "outputs": [
        {
          "output_type": "stream",
          "name": "stdout",
          "text": [
            "The total number string with length >=2 and 1st and last characher same is 2\n"
          ]
        }
      ]
    },
    {
      "cell_type": "markdown",
      "source": [
        "**4. Write a Python program to remove duplicates from a list.**"
      ],
      "metadata": {
        "id": "pLh0MhsOenNY"
      }
    },
    {
      "cell_type": "code",
      "source": [
        "List=['3','6','8','22','6','22']\n",
        "Revised_List=[]\n",
        "for i in List:\n",
        "  if i not in Revised_List:\n",
        "    Revised_List.append(i)\n",
        "print(\"List after removing duplicates is {}\".format(Revised_List))"
      ],
      "metadata": {
        "colab": {
          "base_uri": "https://localhost:8080/"
        },
        "id": "nnPKSAXLfY8z",
        "outputId": "91a90491-c747-48d4-9709-d1545bad5a12"
      },
      "execution_count": 6,
      "outputs": [
        {
          "output_type": "stream",
          "name": "stdout",
          "text": [
            "List after removing duplicates is ['3', '6', '8', '22']\n"
          ]
        }
      ]
    },
    {
      "cell_type": "markdown",
      "source": [
        "**5. Write a Python program to check if a list is empty or not.**"
      ],
      "metadata": {
        "id": "u4zq9fqDgzXU"
      }
    },
    {
      "cell_type": "code",
      "source": [
        "List=['3','6','8','22','6','22']\n",
        "#List=[]\n",
        "if not List:\n",
        "  print(\"List is empty\")\n",
        "else:\n",
        "  print(\"List is not empty\")"
      ],
      "metadata": {
        "colab": {
          "base_uri": "https://localhost:8080/"
        },
        "id": "3OxqBTplg40O",
        "outputId": "8fa5b3f1-c6a1-4571-d887-f26814c9311a"
      },
      "execution_count": 8,
      "outputs": [
        {
          "output_type": "stream",
          "name": "stdout",
          "text": [
            "List is not empty\n"
          ]
        }
      ]
    },
    {
      "cell_type": "markdown",
      "source": [
        "**6. Write a Python program to filter the list if the length of the character is < 4\n",
        "Sample List : ['abc', 'xyz', 'aba', '1221']\n",
        "Expected Result: ['abc', 'xyz', 'aba']**"
      ],
      "metadata": {
        "id": "6lHpJVh0h8ow"
      }
    },
    {
      "cell_type": "code",
      "source": [
        "List=['abc','xyz','aba','1221']\n",
        "Revised_List=[]\n",
        "for i in List:\n",
        "  if len(i)<4:\n",
        "    Revised_List.append(i)\n",
        "print(\"Revised List after the length of character is less than 4 is {}\".format(Revised_List))\n"
      ],
      "metadata": {
        "colab": {
          "base_uri": "https://localhost:8080/"
        },
        "id": "vqzk11VMjLrN",
        "outputId": "16cd4361-06f0-4e22-9276-06688046d354"
      },
      "execution_count": null,
      "outputs": [
        {
          "output_type": "stream",
          "name": "stdout",
          "text": [
            "Revised List after the length of character is less than 4 is ['abc', 'xyz', 'aba']\n"
          ]
        }
      ]
    },
    {
      "cell_type": "markdown",
      "source": [
        "**7.Write a Python program to find the second largest number in a list.**"
      ],
      "metadata": {
        "id": "iplJj966kWCL"
      }
    },
    {
      "cell_type": "code",
      "source": [
        "List=[6,9,2,55,88,34,23]\n",
        "Largest_num=0\n",
        "for i in List:\n",
        "  if i>Largest_num:\n",
        "    Largest_num=i\n",
        "print(\"The Largest number from the given list is {}\".format(Largest_num))"
      ],
      "metadata": {
        "id": "B3BB2xvPkbOU",
        "colab": {
          "base_uri": "https://localhost:8080/"
        },
        "outputId": "347bb4c5-aaf3-4ed9-9c83-d0dcb7c75a95"
      },
      "execution_count": 2,
      "outputs": [
        {
          "output_type": "stream",
          "name": "stdout",
          "text": [
            "The Largest number from the given list is 88\n"
          ]
        }
      ]
    },
    {
      "cell_type": "markdown",
      "source": [
        "**8.Write a Python program to reverse a list at a specific location**"
      ],
      "metadata": {
        "id": "4a0KhSCPeQyC"
      }
    },
    {
      "cell_type": "code",
      "source": [
        "nums = [10, 20, 30, 40, 50, 60, 70, 80]\n",
        "nums[2:5] = nums[2:5][::-1]\n",
        "print(nums)"
      ],
      "metadata": {
        "colab": {
          "base_uri": "https://localhost:8080/"
        },
        "id": "Pt09zuh3eZ1j",
        "outputId": "b73a8cea-e92e-4dfc-fc41-aa198845792e"
      },
      "execution_count": 20,
      "outputs": [
        {
          "output_type": "stream",
          "name": "stdout",
          "text": [
            "[10, 20, 50, 40, 30, 60, 70, 80]\n"
          ]
        }
      ]
    },
    {
      "cell_type": "markdown",
      "source": [
        "**9.Write a Python program to check if a list is a palindrome or not. Return true otherwise false.**"
      ],
      "metadata": {
        "id": "rPmnQhPBj-nE"
      }
    },
    {
      "cell_type": "code",
      "source": [
        "def isPalindrome(x):\n",
        "    reverse = list[::-1]\n",
        "    if(reverse==list):\n",
        "        return True\n",
        "    return False\n",
        "\n",
        "list = [1,2,3,4,3,2,1]\n",
        "#list =[1,2,3,4,5,6,4,2]\n",
        "ans = isPalindrome(list)\n",
        "if ans:\n",
        "    print(\"It is a palindrome\")\n",
        "\n",
        "else:\n",
        "    print(\"It is not a palindrom\")"
      ],
      "metadata": {
        "colab": {
          "base_uri": "https://localhost:8080/"
        },
        "id": "1Y_nF_67kERS",
        "outputId": "fa5b9e5c-95fa-4c5f-d271-5dc656d6b43d"
      },
      "execution_count": 53,
      "outputs": [
        {
          "output_type": "stream",
          "name": "stdout",
          "text": [
            "It is a palindrome\n"
          ]
        }
      ]
    },
    {
      "cell_type": "markdown",
      "source": [
        "**10.Write a Python a program to find the union and intersection of two lists**"
      ],
      "metadata": {
        "id": "FTAhUwRrTKkD"
      }
    },
    {
      "cell_type": "code",
      "source": [
        "def Union(list1, list2):\n",
        "    Union_list = (set(list1) | set(list2))\n",
        "    return Union_list\n",
        "\n",
        "def intersection(list1, list2):\n",
        "    list3 = set(list2)\n",
        "    intersection_list = [value for value in list1 if value in list3]\n",
        "    return intersection_list\n",
        "\n",
        "list1 = [1,2,3,4,5,6,45,33]\n",
        "list2 = [1,2,3,7,8,33,77,55]\n",
        "Union_list=Union(list1,list2)\n",
        "intersection_list=intersection(list1,list2)\n",
        "print(f\"Union of the lists:{Union_list}\")\n",
        "print(f\"Intersection of the lists:{intersection_list}\")"
      ],
      "metadata": {
        "colab": {
          "base_uri": "https://localhost:8080/"
        },
        "id": "WvXBv8jtTNHx",
        "outputId": "540dcd5e-044b-4268-ff3c-52c62982b80d"
      },
      "execution_count": 57,
      "outputs": [
        {
          "output_type": "stream",
          "name": "stdout",
          "text": [
            "Union of the lists:{1, 2, 3, 4, 5, 6, 33, 7, 8, 45, 77, 55}\n",
            "Intersection of the lists:[1, 2, 3, 33]\n"
          ]
        }
      ]
    },
    {
      "cell_type": "markdown",
      "source": [
        "**11.Write a Python script to sort (ascending and descending) a dictionary by value**"
      ],
      "metadata": {
        "id": "z7uhpe-BWpo6"
      }
    },
    {
      "cell_type": "code",
      "source": [
        "Pets_dict = {\"Roxy\": 7, \"Dora\": 3, \"Bruno\": 6, \"Ruby\": 1}\n",
        "ascending = dict(sorted(Pets_dict.items(), key=lambda x: x[1]))\n",
        "descending = dict(sorted(Pets_dict.items(), key=lambda x: x[1],reverse=True))\n",
        "print(f\"ascending is {ascending}\")\n",
        "print(f\"descending is {descending}\")"
      ],
      "metadata": {
        "colab": {
          "base_uri": "https://localhost:8080/"
        },
        "id": "n450R4AyWxqU",
        "outputId": "b7c98c6d-7620-4675-c124-359c813464f2"
      },
      "execution_count": 59,
      "outputs": [
        {
          "output_type": "stream",
          "name": "stdout",
          "text": [
            "ascending is {'Ruby': 1, 'Dora': 3, 'Bruno': 6, 'Roxy': 7}\n",
            "descending is {'Roxy': 7, 'Bruno': 6, 'Dora': 3, 'Ruby': 1}\n"
          ]
        }
      ]
    },
    {
      "cell_type": "markdown",
      "source": [
        "**12.Write a Python script to check whether a given key already exists in a dictionary**"
      ],
      "metadata": {
        "id": "Cm5Mq0vpbolO"
      }
    },
    {
      "cell_type": "code",
      "source": [
        "Pets_dict={1:\"Roxy\",2:\"Ruby\",3:\"Dora\",4:\"Bruno\"}\n",
        "key=int(input(\"enter the key:\"))\n",
        "if key in Pets_dict.keys():\n",
        "    print(f\"key {key} is in the list\")\n",
        "else:\n",
        "    print(f\"key {key} is not in the list\")"
      ],
      "metadata": {
        "colab": {
          "base_uri": "https://localhost:8080/"
        },
        "id": "qWt078Z2bq0v",
        "outputId": "25d59d56-fce5-4b89-d6c6-1eccdc024cf2"
      },
      "execution_count": 60,
      "outputs": [
        {
          "output_type": "stream",
          "name": "stdout",
          "text": [
            "enter the key:4\n",
            "key 4 is in the list\n"
          ]
        }
      ]
    },
    {
      "cell_type": "markdown",
      "source": [
        "**13.Write a Python program to sum all the values in a dictionary**"
      ],
      "metadata": {
        "id": "Ia2X1H4QdWU_"
      }
    },
    {
      "cell_type": "code",
      "source": [
        "Pets_dict = {\"Roxy\": 7, \"Dora\": 3, \"Bruno\": 6, \"Ruby\": 1}\n",
        "sum=0\n",
        "for i in Pets_dict.values():\n",
        "  sum+=i\n",
        "print(f\"sum of all the values is i dict is {sum}\")"
      ],
      "metadata": {
        "colab": {
          "base_uri": "https://localhost:8080/"
        },
        "id": "KuQLY4mrdkh8",
        "outputId": "f6bd4606-6e32-4eba-cd87-a26e2f6c3e16"
      },
      "execution_count": 61,
      "outputs": [
        {
          "output_type": "stream",
          "name": "stdout",
          "text": [
            "sum of all the values is i dict is 17\n"
          ]
        }
      ]
    },
    {
      "cell_type": "markdown",
      "source": [
        "**14.Write a Python program to create a dictionary with a number and its corresponding square from 1 to input number. And also check if the input number is less than 10\n",
        "Eg:\n",
        "Input : 3\n",
        "Output : {1:1, 2:4, 3:9}**"
      ],
      "metadata": {
        "id": "qY-PMj8NfSVF"
      }
    },
    {
      "cell_type": "code",
      "source": [
        "num=int(input(\"enter the number:\"))\n",
        "if num<=10:\n",
        "    num={i:i*i for i in range(num+1) }\n",
        "    print(num)\n",
        "\n",
        "else:\n",
        "    print(\"Number is greater than 10\")"
      ],
      "metadata": {
        "colab": {
          "base_uri": "https://localhost:8080/"
        },
        "id": "a8Vc6dqqfVFY",
        "outputId": "30efb86f-4d98-4cd7-b5ad-e3a221206b01"
      },
      "execution_count": 42,
      "outputs": [
        {
          "output_type": "stream",
          "name": "stdout",
          "text": [
            "enter the number:8\n",
            "{0: 0, 1: 1, 2: 4, 3: 9, 4: 16, 5: 25, 6: 36, 7: 49, 8: 64}\n"
          ]
        }
      ]
    },
    {
      "cell_type": "markdown",
      "source": [
        "**15.Write a Python program to sort a given dictionary by key**"
      ],
      "metadata": {
        "id": "9GHh1sE2hQy4"
      }
    },
    {
      "cell_type": "code",
      "source": [
        "Pets_dict = {\"Roxy\": 7, \"Dora\": 3, \"Bruno\": 6, \"Ruby\": 1}\n",
        "Pets_dict=dict(sorted(Pets_dict.items()))\n",
        "\n",
        "print(\"Dict sorted by keys:\",Pets_dict)"
      ],
      "metadata": {
        "colab": {
          "base_uri": "https://localhost:8080/"
        },
        "id": "vl56QTCFhSvV",
        "outputId": "30a79862-b979-4cd5-b5aa-509c04d1ed16"
      },
      "execution_count": 62,
      "outputs": [
        {
          "output_type": "stream",
          "name": "stdout",
          "text": [
            "Dict sorted by keys: {'Bruno': 6, 'Dora': 3, 'Roxy': 7, 'Ruby': 1}\n"
          ]
        }
      ]
    },
    {
      "cell_type": "markdown",
      "source": [
        "**16.Write a Python program to create a dictionary from a string.\n",
        "Note: Track the count of the letters from the string.\n",
        "Sample string : 'learnpython'\n",
        "Expected output: {'l': 1, 'e': 1, 'a': 1, 'r': 1, 'n': 2, 'p': 1, 'y': 1, 't': 1, 'h': 1, 'o': 1}**"
      ],
      "metadata": {
        "id": "Lpqu59J5lYTS"
      }
    },
    {
      "cell_type": "code",
      "source": [
        "string=\"learnpython\"\n",
        "dict_write={}\n",
        "for i in string:\n",
        "    if i in dict_write:\n",
        "        dict_write[i]+=1\n",
        "    else:\n",
        "        dict_write[i]=1\n",
        "print(dict_write)"
      ],
      "metadata": {
        "colab": {
          "base_uri": "https://localhost:8080/"
        },
        "id": "OKyC9bsxlqGV",
        "outputId": "4bac803e-f945-4cbd-d7fe-061b983543dd"
      },
      "execution_count": 46,
      "outputs": [
        {
          "output_type": "stream",
          "name": "stdout",
          "text": [
            "{'l': 1, 'e': 1, 'a': 1, 'r': 1, 'n': 2, 'p': 1, 'y': 1, 't': 1, 'h': 1, 'o': 1}\n"
          ]
        }
      ]
    },
    {
      "cell_type": "markdown",
      "source": [
        "**17.Write a Python program to get the top three items in a shop.\n",
        "Sample data: {'item1': 45.50, 'item2':35, 'item3': 41.30, 'item4':55, 'item5': 24}\n",
        "Expected Output:\n",
        "item4 55\n",
        "item1 45.5\n",
        "item3 41.3**"
      ],
      "metadata": {
        "id": "_JumxegMmLhf"
      }
    },
    {
      "cell_type": "code",
      "source": [
        "shop= {'item1': 45.50, 'item2':35, 'item3': 41.30, 'item4':55, 'item5': 24}\n",
        "Items=sorted(shop.items(), key=lambda x: x[1],reverse=True)\n",
        "Top_Price=Items[:3]\n",
        "print(dict(Top_Price))"
      ],
      "metadata": {
        "colab": {
          "base_uri": "https://localhost:8080/"
        },
        "id": "xzxisISgmUAh",
        "outputId": "33210f61-6095-4560-dcf0-57ca107e2b34"
      },
      "execution_count": 50,
      "outputs": [
        {
          "output_type": "stream",
          "name": "stdout",
          "text": [
            "{'item4': 55, 'item1': 45.5, 'item3': 41.3}\n"
          ]
        }
      ]
    }
  ]
}