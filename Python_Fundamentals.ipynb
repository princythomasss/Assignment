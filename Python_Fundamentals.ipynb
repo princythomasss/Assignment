{
  "nbformat": 4,
  "nbformat_minor": 0,
  "metadata": {
    "colab": {
      "provenance": [],
      "authorship_tag": "ABX9TyNH4Lvn9oB735OiJ6CdUbSI",
      "include_colab_link": true
    },
    "kernelspec": {
      "name": "python3",
      "display_name": "Python 3"
    },
    "language_info": {
      "name": "python"
    }
  },
  "cells": [
    {
      "cell_type": "markdown",
      "metadata": {
        "id": "view-in-github",
        "colab_type": "text"
      },
      "source": [
        "<a href=\"https://colab.research.google.com/github/princythomasss/Assignment_Entri/blob/main/Python_Fundamentals.ipynb\" target=\"_parent\"><img src=\"https://colab.research.google.com/assets/colab-badge.svg\" alt=\"Open In Colab\"/></a>"
      ]
    },
    {
      "cell_type": "markdown",
      "source": [
        "**Python Fundamentals**"
      ],
      "metadata": {
        "id": "4yrLrarup5zW"
      }
    },
    {
      "cell_type": "markdown",
      "source": [
        "Exercise 1  \n",
        "Write Python code that prints your name, student number and email address.  \n",
        "An example runs of the program:  \n",
        "Bob\n",
        "ST1001\n",
        "bob@gmail.com"
      ],
      "metadata": {
        "id": "F21YUDOBqYG4"
      }
    },
    {
      "cell_type": "code",
      "execution_count": 1,
      "metadata": {
        "colab": {
          "base_uri": "https://localhost:8080/"
        },
        "id": "XNVZDiDBp4lL",
        "outputId": "b4a013d6-784e-4469-9bd4-e15ea0491357"
      },
      "outputs": [
        {
          "output_type": "stream",
          "name": "stdout",
          "text": [
            "Prncy PT1001 thomasprincy01@gmail.com\n"
          ]
        }
      ],
      "source": [
        "print(\"Prncy PT1001 thomasprincy01@gmail.com\")"
      ]
    },
    {
      "cell_type": "markdown",
      "source": [
        "Exercise 2\n",
        "\n",
        "Write Python code that prints your name, student number and email address using escape sequences\n",
        "An example runs of the program:\n",
        "Bob\n",
        "ST1001\n",
        "bob@gmail.com"
      ],
      "metadata": {
        "id": "4Z4t4y6Iq2Ws"
      }
    },
    {
      "cell_type": "code",
      "source": [
        "print(\"Prncy\\nPT1001\\nthomasprincy01@gmail.com\")"
      ],
      "metadata": {
        "colab": {
          "base_uri": "https://localhost:8080/"
        },
        "id": "L9RQy6_Dq7lc",
        "outputId": "9966103f-94d1-4725-dfaf-11d4338c8fe3"
      },
      "execution_count": 2,
      "outputs": [
        {
          "output_type": "stream",
          "name": "stdout",
          "text": [
            "Prncy\n",
            "PT1001\n",
            "thomasprincy01@gmail.com\n"
          ]
        }
      ]
    },
    {
      "cell_type": "markdown",
      "source": [
        "Exercise 3\n",
        "\n",
        "Write Python code that add, subtract, multiply and divide the two numbers. You can use the two numbers 14 and 7.  An example run of the program:  \n",
        "14 + 7 = 21\n",
        "14 * 7 = 98\n",
        "14 – 7 = 7\n",
        "14 / 7 = 2"
      ],
      "metadata": {
        "id": "rC4fBs7PrQZu"
      }
    },
    {
      "cell_type": "code",
      "source": [
        "num1=14\n",
        "num2=7\n",
        "print(num1,\"+\",num2,\"=\",num1+num2)\n",
        "print(num1,\"*\",num2,\"=\",num1*num2)\n",
        "print(num1,\"-\",num2,\"=\",num1-num2)\n",
        "print(num1,\"/\",num2,\"=\",num1/num2)"
      ],
      "metadata": {
        "colab": {
          "base_uri": "https://localhost:8080/"
        },
        "id": "L6ZeeWsgrh4r",
        "outputId": "42512691-5a71-41c7-833a-39fc2a4d6d6b"
      },
      "execution_count": 5,
      "outputs": [
        {
          "output_type": "stream",
          "name": "stdout",
          "text": [
            "14 + 7 = 21\n",
            "14 * 7 = 98\n",
            "14 - 7 = 7\n",
            "14 / 7 = 2.0\n"
          ]
        }
      ]
    },
    {
      "cell_type": "markdown",
      "source": [
        "Exercise 4\n",
        "\n",
        "Write Python code that displays the numbers from 1 to 5 as steps.\n",
        "An example runs of the program:\n",
        "1\n",
        "2\n",
        "3\n",
        "4\n",
        "5"
      ],
      "metadata": {
        "id": "kNG6rvDlsgtu"
      }
    },
    {
      "cell_type": "code",
      "source": [
        "for i in range(1,6):\n",
        "  print(i)"
      ],
      "metadata": {
        "colab": {
          "base_uri": "https://localhost:8080/"
        },
        "id": "OHVkfAGmrSaA",
        "outputId": "a7ae0df5-9039-4907-b8b0-d3a4cdfe9e5a"
      },
      "execution_count": 6,
      "outputs": [
        {
          "output_type": "stream",
          "name": "stdout",
          "text": [
            "1\n",
            "2\n",
            "3\n",
            "4\n",
            "5\n"
          ]
        }
      ]
    },
    {
      "cell_type": "markdown",
      "source": [
        "Exercise 5\n",
        "Write Python code that outputs the following sentence (including the quotation marks and line break) to the screen:\n",
        "An example runs of the program:  \n",
        "\"SDK\" stands for \"Software Development Kit\", whereas\n",
        "\"IDE\" stands for \"Integrated Development Environment\"."
      ],
      "metadata": {
        "id": "sL9ToJfYs6Pp"
      }
    },
    {
      "cell_type": "code",
      "source": [
        "print('''\"SDK\" stands for \"Software Development Kit\",whereas\\n\"IDE\" stands for \"Integrated Development Environment\".''')"
      ],
      "metadata": {
        "colab": {
          "base_uri": "https://localhost:8080/"
        },
        "id": "efPQS0y_tEmj",
        "outputId": "9ff27749-a902-4ab3-b34e-3876bf89b1cc"
      },
      "execution_count": 10,
      "outputs": [
        {
          "output_type": "stream",
          "name": "stdout",
          "text": [
            "\"SDK\" stands for \"Software Development Kit\",whereas\n",
            "\"IDE\" stands for \"Integrated Development Environment\".\n"
          ]
        }
      ]
    },
    {
      "cell_type": "markdown",
      "source": [
        "Exercise 6\n",
        "\n",
        "Practice and check the output\n",
        "print(\"python is an \\\"awesome\\\" language.\")\n",
        "print(\"python\\n\\t2023\")\n",
        "print('I\\'m from Entri.\\b')\n",
        "print(\"\\65\")\n",
        "print(\"\\x65\")\n",
        "print(\"Entri\", \"2023\", sep=\"\\n\")\n",
        "print(\"Entri\", \"2023\", sep=\"\\b\")\n",
        "print(\"Entri\", \"2023\", sep=\"*\", end=\"\\b\\b\\b\\b\")"
      ],
      "metadata": {
        "id": "Dplf5wZWtntR"
      }
    },
    {
      "cell_type": "code",
      "source": [
        "print(\"python is an \\\"awesome\\\" language.\")\n",
        "print(\"python\\n\\t2023\")\n",
        "print('I\\'m from Entri.\\b')\n",
        "print(\"\\65\")\n",
        "print(\"\\x65\")\n",
        "print(\"Entri\", \"2023\", sep=\"\\n\")\n",
        "print(\"Entri\", \"2023\", sep=\"\\b\")\n",
        "print(\"Entri\", \"2023\", sep=\"*\", end=\"\\b\\b\\b\\b\")"
      ],
      "metadata": {
        "colab": {
          "base_uri": "https://localhost:8080/"
        },
        "id": "elJ_kf_LtrWS",
        "outputId": "4d1fba4f-51b6-4d2c-acdf-2478bf2a170f"
      },
      "execution_count": 18,
      "outputs": [
        {
          "output_type": "stream",
          "name": "stdout",
          "text": [
            "python is an \"awesome\" language.\n",
            "python\n",
            "\t2023\n",
            "I'm from Entri.\b\n",
            "5\n",
            "e\n",
            "Entri\n",
            "2023\n",
            "Entri\b2023\n",
            "Entri*2023\b\b\b\b"
          ]
        }
      ]
    },
    {
      "cell_type": "markdown",
      "source": [
        "Exercise 7\n",
        "\n",
        "Define the variables below. Print the types of each variable. What is the sum of your variables? (Hint: use a type conversion function.) What datatype is the sum?\n",
        "num=23\n",
        "textnum=\"57\"\n",
        "decimal=98.3\n"
      ],
      "metadata": {
        "id": "H22tG6QCvOnh"
      }
    },
    {
      "cell_type": "code",
      "source": [
        "num=23\n",
        "textnum=\"57\"\n",
        "decimal=98.3\n",
        "print(type(num))\n",
        "print(type(textnum))\n",
        "print(type(decimal))\n",
        "sum=num+int(textnum)+decimal\n",
        "print(\"sum =\",sum)\n",
        "print(type(sum))"
      ],
      "metadata": {
        "colab": {
          "base_uri": "https://localhost:8080/"
        },
        "id": "Qrpa2OD6vdZN",
        "outputId": "c185c78e-7596-4dfd-8cf3-0a484b13b76a"
      },
      "execution_count": 24,
      "outputs": [
        {
          "output_type": "stream",
          "name": "stdout",
          "text": [
            "<class 'int'>\n",
            "<class 'str'>\n",
            "<class 'float'>\n",
            "sum = 178.3\n",
            "<class 'float'>\n"
          ]
        }
      ]
    },
    {
      "cell_type": "markdown",
      "source": [
        "Exercise 8\n",
        "\n",
        "calculate the number of minutes in a year using variables for each unit of time. print a statement that describes what your code does also. Create three variables to store no of days in a year, minute in a hour, hours in a day, then calculate the total minutes in a year and print the values\n",
        "(hint) total number of minutes in an year =No.of days in an year * Hours in a day * Minutes in an hour"
      ],
      "metadata": {
        "id": "QcSwP640wYOO"
      }
    },
    {
      "cell_type": "code",
      "source": [
        "days=365    #Total number of days in a year\n",
        "minutes=60  #Total minutes in a hour\n",
        "hours=24    #Total hours in a day\n",
        "Minutes_in_a_year = days*minutes*hours\n",
        "print(\"This code calculates the total minutes in a year i.e.\",Minutes_in_a_year)\n",
        "print(Minutes_in_a_year)\n"
      ],
      "metadata": {
        "colab": {
          "base_uri": "https://localhost:8080/"
        },
        "id": "zt-hoLaFwahB",
        "outputId": "18abe056-b3a4-48dd-d882-0406d51cce19"
      },
      "execution_count": 31,
      "outputs": [
        {
          "output_type": "stream",
          "name": "stdout",
          "text": [
            "This code calculates the total minutes in a year i.e. 525600\n",
            "525600\n"
          ]
        }
      ]
    },
    {
      "cell_type": "markdown",
      "source": [
        "Exercise 9\n",
        "\n",
        "Write Python code that asks the user to enter his/her name and then output/prints his/her name with a greeting.\n",
        "An example runs of the program:\n",
        "Please enter you name: Tony\n",
        "Hi Tony, welcome to Python programming :)"
      ],
      "metadata": {
        "id": "HmbjRduK0StK"
      }
    },
    {
      "cell_type": "code",
      "source": [
        "Name=input(\"Please Enter Your Name\")\n",
        "print(\"Hi\",Name,\", welcome to Python programming :)\")"
      ],
      "metadata": {
        "colab": {
          "base_uri": "https://localhost:8080/"
        },
        "id": "wO00mc5z0XfN",
        "outputId": "3a5d030a-7551-4d07-9ee7-193101ac65a4"
      },
      "execution_count": 32,
      "outputs": [
        {
          "output_type": "stream",
          "name": "stdout",
          "text": [
            "Please Enter Your NamePrincy\n",
            "Hi Princy , welcome to Python programming :)\n"
          ]
        }
      ]
    },
    {
      "cell_type": "markdown",
      "source": [
        "Exercise 10\n",
        "\n",
        "Name your file: PoundsToDollars.py\n",
        "Write a program that asks the user to enter an amount in pounds (£) and the program calculates and converts an amount in dollar ($)\n",
        "An example runs of the program:\n",
        "Please enter amount in pounds: XXX\n",
        "£ XXX are $ XXX"
      ],
      "metadata": {
        "id": "SKleLWjF2xIe"
      }
    },
    {
      "cell_type": "code",
      "source": [
        "Pounds=int(input(\"Please enter amount in pounds : \"))\n",
        "Dollar=Pounds*1.27\n",
        "print(Dollar,\"$ is equal to\",Pounds,\"Pounds\")\n"
      ],
      "metadata": {
        "colab": {
          "base_uri": "https://localhost:8080/"
        },
        "id": "akzAMk3v3EoV",
        "outputId": "230bb31a-cfe6-4cdc-931d-1e583ff3b735"
      },
      "execution_count": 37,
      "outputs": [
        {
          "output_type": "stream",
          "name": "stdout",
          "text": [
            "Please enter amount in pounds : 6\n",
            "7.62 $ is equal to 6 Pounds\n"
          ]
        }
      ]
    }
  ]
}