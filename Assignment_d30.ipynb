{
  "nbformat": 4,
  "nbformat_minor": 0,
  "metadata": {
    "colab": {
      "provenance": [],
      "authorship_tag": "ABX9TyPY8obfrc8mJDwP04POh34y",
      "include_colab_link": true
    },
    "kernelspec": {
      "name": "python3",
      "display_name": "Python 3"
    },
    "language_info": {
      "name": "python"
    }
  },
  "cells": [
    {
      "cell_type": "markdown",
      "metadata": {
        "id": "view-in-github",
        "colab_type": "text"
      },
      "source": [
        "<a href=\"https://colab.research.google.com/github/princythomasss/Assignment/blob/main/Assignment_d30.ipynb\" target=\"_parent\"><img src=\"https://colab.research.google.com/assets/colab-badge.svg\" alt=\"Open In Colab\"/></a>"
      ]
    },
    {
      "cell_type": "code",
      "execution_count": null,
      "metadata": {
        "id": "JTpIHRMaFRHO"
      },
      "outputs": [],
      "source": [
        "\n",
        "\n"
      ]
    },
    {
      "cell_type": "markdown",
      "source": [],
      "metadata": {
        "id": "Wcw4__fhHTI3"
      }
    },
    {
      "cell_type": "markdown",
      "source": [
        "**Write a python program to check the user input is even or odd or zero**"
      ],
      "metadata": {
        "id": "JFgtfphb9tUL"
      }
    },
    {
      "cell_type": "code",
      "source": [
        "num=int(input(\"Enter a Number:\"))\n",
        "if(num%2==0):\n",
        "  print(\"{} is an even number\".format(num))\n",
        "else:\n",
        "  print(\"{} is a odd number\".format(num))\n"
      ],
      "metadata": {
        "colab": {
          "base_uri": "https://localhost:8080/"
        },
        "id": "YqMKq5rCMCsW",
        "outputId": "79c8e18a-8c7a-4e26-84c8-762a9c93b8c6"
      },
      "execution_count": 43,
      "outputs": [
        {
          "output_type": "stream",
          "name": "stdout",
          "text": [
            "Enter a Number:456\n",
            "456 is an even number\n"
          ]
        }
      ]
    },
    {
      "cell_type": "markdown",
      "source": [
        "**Print decimal part of an input number.if the decimal part is zero print the string : \"INTEGER\"**"
      ],
      "metadata": {
        "id": "oM1fMNtkG_vh"
      }
    },
    {
      "cell_type": "code",
      "source": [
        "num=input(\"Enter a Number:\")\n",
        "p=int(num.split(\".\")[1])\n",
        "if(p==0):\n",
        "  print(\"The number is INTEGER\")\n",
        "else:\n",
        "  print(\"{} is the decimal part\".format(p))\n"
      ],
      "metadata": {
        "colab": {
          "base_uri": "https://localhost:8080/"
        },
        "id": "dYsE_5B1-CKx",
        "outputId": "9cba1b6b-e4fb-4785-ecb7-d3c9f08821b0"
      },
      "execution_count": 48,
      "outputs": [
        {
          "output_type": "stream",
          "name": "stdout",
          "text": [
            "Enter a Number:6.89\n",
            "89 is the decimal part\n"
          ]
        }
      ]
    },
    {
      "cell_type": "markdown",
      "source": [
        "**Write a python program to find those numbers which are divisible by 7 and multiples of 5,for user input.**"
      ],
      "metadata": {
        "id": "HgVE4pIw-7Jb"
      }
    },
    {
      "cell_type": "code",
      "source": [
        "limit=input(\"Enter the lower and upper limits respectively seperated by a comma(,):\")\n",
        "limits= limit.split(\",\")\n",
        "for i in range(int(limits[0]),int(limits[1])+1):\n",
        "  if(i%7==0)and(i%5==0):\n",
        "    print(i)"
      ],
      "metadata": {
        "colab": {
          "base_uri": "https://localhost:8080/"
        },
        "id": "CxL6eijP_W4T",
        "outputId": "349d1de5-67c7-4340-9ae2-84b14c8308cb"
      },
      "execution_count": 57,
      "outputs": [
        {
          "output_type": "stream",
          "name": "stdout",
          "text": [
            "Enter the lower and upper limits respectively seperated by a comma(,):1,200\n",
            "35\n",
            "70\n",
            "105\n",
            "140\n",
            "175\n"
          ]
        }
      ]
    }
  ]
}